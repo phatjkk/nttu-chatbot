{
 "cells": [
  {
   "cell_type": "markdown",
   "metadata": {},
   "source": [
    "Based on the package.json file shown, here are the instructions to run the project:\n",
    "\n",
    "1. First, make sure you have Node.js installed on your system.\n",
    "\n",
    "2. Install the dependencies by running:\n",
    "```bash\n",
    "npm install\n",
    "```\n",
    "\n",
    "3. To start the development server:\n",
    "```bash\n",
    "npm run dev\n",
    "```\n",
    "\n",
    "This will start the Vite development server, which typically runs on `http://localhost:5173` by default.\n",
    "\n",
    "Additional commands available:\n",
    "- Build for production:\n",
    "```bash\n",
    "npm run build\n",
    "```\n",
    "\n",
    "- Preview the production build locally:\n",
    "```bash\n",
    "npm run preview\n",
    "```\n",
    "\n",
    "The project appears to be a React application using:\n",
    "- Vite as the build tool\n",
    "- TailwindCSS for styling (with DaisyUI components)\n",
    "- Various React libraries for functionality (routing, animations, icons, etc.)\n"
   ]
  }
 ],
 "metadata": {
  "language_info": {
   "name": "python"
  }
 },
 "nbformat": 4,
 "nbformat_minor": 2
}
